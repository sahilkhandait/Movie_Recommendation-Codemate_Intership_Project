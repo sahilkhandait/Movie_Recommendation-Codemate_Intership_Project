{
  "metadata": {
    "kernelspec": {
      "language": "python",
      "display_name": "Python 3",
      "name": "python3"
    },
    "language_info": {
      "name": "python",
      "version": "3.7.10",
      "mimetype": "text/x-python",
      "codemirror_mode": {
        "name": "ipython",
        "version": 3
      },
      "pygments_lexer": "ipython3",
      "nbconvert_exporter": "python",
      "file_extension": ".py"
    },
    "colab": {
      "provenance": []
    }
  },
  "nbformat_minor": 0,
  "nbformat": 4,
  "cells": [
    {
      "cell_type": "code",
      "source": [
        "# Importing required librarie\n",
        "import numpy as np # linear algebra\n",
        "import pandas as pd # data processing, CSV file I/O (e.g. pd.read_csv)"
      ],
      "metadata": {
        "_uuid": "8f2839f25d086af736a60e9eeb907d3b93b6e0e5",
        "_cell_guid": "b1076dfc-b9ad-4769-8c92-a6c4dae69d19",
        "execution": {
          "iopub.status.busy": "2021-06-21T12:32:55.393741Z",
          "iopub.execute_input": "2021-06-21T12:32:55.394360Z",
          "iopub.status.idle": "2021-06-21T12:32:55.415999Z",
          "shell.execute_reply.started": "2021-06-21T12:32:55.394257Z",
          "shell.execute_reply": "2021-06-21T12:32:55.414664Z"
        },
        "trusted": true,
        "id": "vc4InHgkELWA"
      },
      "execution_count": null,
      "outputs": []
    },
    {
      "cell_type": "code",
      "source": [
        "import os\n",
        "for dirname, _, filenames in os.walk('/kaggle/input'):\n",
        "    for filename in filenames:\n",
        "        print(os.path.join(dirname, filename))"
      ],
      "metadata": {
        "id": "B-bac4Qk3Pam"
      },
      "execution_count": null,
      "outputs": []
    },
    {
      "cell_type": "code",
      "source": [
        "# This code we have taken the file as .csv and uploaded it\n",
        "movies = pd.read_csv('tmdb_5000_movies.csv')\n",
        "credits = pd.read_csv('tmdb_5000_credits.csv')"
      ],
      "metadata": {
        "execution": {
          "iopub.status.busy": "2021-06-21T12:36:31.347717Z",
          "iopub.execute_input": "2021-06-21T12:36:31.348105Z",
          "iopub.status.idle": "2021-06-21T12:36:32.003856Z",
          "shell.execute_reply.started": "2021-06-21T12:36:31.348073Z",
          "shell.execute_reply": "2021-06-21T12:36:32.002744Z"
        },
        "trusted": true,
        "id": "cApiL2qYELWJ"
      },
      "execution_count": null,
      "outputs": []
    },
    {
      "cell_type": "code",
      "source": [
        "# This code reads two CSV files, 'tmdb_5000_movies.csv' and 'tmdb_5000_credits.csv', and stores the data in two DataFrames named 'movies' and 'credits', respectively.\n",
        "movies.head(2)"
      ],
      "metadata": {
        "execution": {
          "iopub.status.busy": "2021-06-21T12:36:33.757346Z",
          "iopub.execute_input": "2021-06-21T12:36:33.757778Z",
          "iopub.status.idle": "2021-06-21T12:36:33.781729Z",
          "shell.execute_reply.started": "2021-06-21T12:36:33.757743Z",
          "shell.execute_reply": "2021-06-21T12:36:33.780738Z"
        },
        "trusted": true,
        "id": "gd92atTSELWL"
      },
      "execution_count": null,
      "outputs": []
    },
    {
      "cell_type": "code",
      "source": [
        "# This displays the first two rows of the 'movies' DataFrame, providing a glimpse of its contents.\n",
        "movies.shape"
      ],
      "metadata": {
        "execution": {
          "iopub.status.busy": "2021-06-21T12:33:06.307921Z",
          "iopub.execute_input": "2021-06-21T12:33:06.308311Z",
          "iopub.status.idle": "2021-06-21T12:33:06.316052Z",
          "shell.execute_reply.started": "2021-06-21T12:33:06.308279Z",
          "shell.execute_reply": "2021-06-21T12:33:06.314903Z"
        },
        "trusted": true,
        "id": "b0doU99wELWM"
      },
      "execution_count": null,
      "outputs": []
    },
    {
      "cell_type": "code",
      "source": [
        "# This shows the dimensions (number of rows and columns) of the 'movies' DataFrame.\n",
        "credits.head()"
      ],
      "metadata": {
        "execution": {
          "iopub.status.busy": "2021-06-21T12:33:08.787389Z",
          "iopub.execute_input": "2021-06-21T12:33:08.787791Z",
          "iopub.status.idle": "2021-06-21T12:33:08.800864Z",
          "shell.execute_reply.started": "2021-06-21T12:33:08.787758Z",
          "shell.execute_reply": "2021-06-21T12:33:08.799834Z"
        },
        "trusted": true,
        "id": "oashGZWXELWO"
      },
      "execution_count": null,
      "outputs": []
    },
    {
      "cell_type": "code",
      "source": [
        "# This displays the first few rows of the 'credits' DataFrame, showing some of its contents.\n",
        "movies = movies.merge(credits,on='title')"
      ],
      "metadata": {
        "execution": {
          "iopub.status.busy": "2021-06-21T12:36:38.686521Z",
          "iopub.execute_input": "2021-06-21T12:36:38.687005Z",
          "iopub.status.idle": "2021-06-21T12:36:38.713343Z",
          "shell.execute_reply.started": "2021-06-21T12:36:38.686963Z",
          "shell.execute_reply": "2021-06-21T12:36:38.711939Z"
        },
        "trusted": true,
        "id": "CF74zv7fELWO"
      },
      "execution_count": null,
      "outputs": []
    },
    {
      "cell_type": "code",
      "source": [
        "# This merges the 'movies' and 'credits' DataFrames based on the 'title' column, combining their data into a new 'movies' DataFrame.\n",
        "movies.head()"
      ],
      "metadata": {
        "execution": {
          "iopub.status.busy": "2021-06-19T12:48:23.470187Z",
          "iopub.execute_input": "2021-06-19T12:48:23.470754Z",
          "iopub.status.idle": "2021-06-19T12:48:23.5041Z",
          "shell.execute_reply.started": "2021-06-19T12:48:23.470724Z",
          "shell.execute_reply": "2021-06-19T12:48:23.503327Z"
        },
        "trusted": true,
        "id": "ZYlSWoaTELWP"
      },
      "execution_count": null,
      "outputs": []
    },
    {
      "cell_type": "code",
      "source": [
        "# This displays the first few rows of the 'movies' DataFrame after the merge operation.\n",
        "movies = movies[['movie_id','title','overview','genres','keywords','cast','crew']]"
      ],
      "metadata": {
        "execution": {
          "iopub.status.busy": "2021-06-21T12:36:41.393326Z",
          "iopub.execute_input": "2021-06-21T12:36:41.393733Z",
          "iopub.status.idle": "2021-06-21T12:36:41.406883Z",
          "shell.execute_reply.started": "2021-06-21T12:36:41.393699Z",
          "shell.execute_reply": "2021-06-21T12:36:41.405822Z"
        },
        "trusted": true,
        "id": "rBJK9pcHELWP"
      },
      "execution_count": null,
      "outputs": []
    },
    {
      "cell_type": "code",
      "source": [
        "# This creates a new 'movies' DataFrame containing only specific columns, including 'movie_id', 'title', 'overview', 'genres', 'keywords', 'cast', and 'crew'.\n",
        "movies.head()"
      ],
      "metadata": {
        "execution": {
          "iopub.status.busy": "2021-06-21T12:33:39.516481Z",
          "iopub.execute_input": "2021-06-21T12:33:39.517061Z",
          "iopub.status.idle": "2021-06-21T12:33:39.532499Z",
          "shell.execute_reply.started": "2021-06-21T12:33:39.517012Z",
          "shell.execute_reply": "2021-06-21T12:33:39.531584Z"
        },
        "trusted": true,
        "id": "MQXCZ4YtELWP"
      },
      "execution_count": null,
      "outputs": []
    },
    {
      "cell_type": "code",
      "source": [
        "# This displays the first few rows of the 'movies' DataFrame after selecting specific columns.\n",
        "import ast"
      ],
      "metadata": {
        "execution": {
          "iopub.status.busy": "2021-06-21T12:34:19.382331Z",
          "iopub.execute_input": "2021-06-21T12:34:19.382856Z",
          "iopub.status.idle": "2021-06-21T12:34:19.387416Z",
          "shell.execute_reply.started": "2021-06-21T12:34:19.382822Z",
          "shell.execute_reply": "2021-06-21T12:34:19.386451Z"
        },
        "trusted": true,
        "id": "O_a9xH96ELWP"
      },
      "execution_count": null,
      "outputs": []
    },
    {
      "cell_type": "code",
      "source": [
        "# This imports the 'ast' module, which provides functions to handle Abstract Syntax Trees (AST) in Python.\n",
        "def convert(text):\n",
        "    L = []\n",
        "    for i in ast.literal_eval(text):\n",
        "        L.append(i['name'])\n",
        "    return L"
      ],
      "metadata": {
        "execution": {
          "iopub.status.busy": "2021-06-21T12:36:47.539904Z",
          "iopub.execute_input": "2021-06-21T12:36:47.540453Z",
          "iopub.status.idle": "2021-06-21T12:36:47.545014Z",
          "shell.execute_reply.started": "2021-06-21T12:36:47.540418Z",
          "shell.execute_reply": "2021-06-21T12:36:47.544243Z"
        },
        "trusted": true,
        "id": "hDqjLAvLELWQ"
      },
      "execution_count": null,
      "outputs": []
    },
    {
      "cell_type": "code",
      "source": [
        "# This defines a function 'convert' that takes a text input, evaluates it as a Python data structure (a list of dictionaries), and extracts the 'name' key from each dictionary, returning a list of names.\n",
        "movies.dropna(inplace=True)"
      ],
      "metadata": {
        "execution": {
          "iopub.status.busy": "2021-06-21T12:36:50.059006Z",
          "iopub.execute_input": "2021-06-21T12:36:50.059538Z",
          "iopub.status.idle": "2021-06-21T12:36:50.073095Z",
          "shell.execute_reply.started": "2021-06-21T12:36:50.059504Z",
          "shell.execute_reply": "2021-06-21T12:36:50.071577Z"
        },
        "trusted": true,
        "id": "4fkizvcXELWQ"
      },
      "execution_count": null,
      "outputs": []
    },
    {
      "cell_type": "code",
      "source": [
        "# This removes any rows with missing values (NaN) from the 'movies' DataFrame, updating it in place.\n",
        "movies['genres'] = movies['genres'].apply(convert)\n",
        "movies.head()"
      ],
      "metadata": {
        "execution": {
          "iopub.status.busy": "2021-06-21T12:36:52.343645Z",
          "iopub.execute_input": "2021-06-21T12:36:52.344121Z",
          "iopub.status.idle": "2021-06-21T12:36:52.523910Z",
          "shell.execute_reply.started": "2021-06-21T12:36:52.344082Z",
          "shell.execute_reply": "2021-06-21T12:36:52.522805Z"
        },
        "trusted": true,
        "id": "7jNMJgOxELWQ"
      },
      "execution_count": null,
      "outputs": []
    },
    {
      "cell_type": "code",
      "source": [
        "# This applies the 'convert' function to each element of the 'genres' column in the 'movies' DataFrame. It extracts the 'name' key from the list of dictionaries and replaces the 'genres' column with the new list of names.\n",
        "movies['keywords'] = movies['keywords'].apply(convert)\n",
        "movies.head()"
      ],
      "metadata": {
        "execution": {
          "iopub.status.busy": "2021-06-21T12:36:55.304070Z",
          "iopub.execute_input": "2021-06-21T12:36:55.304439Z",
          "iopub.status.idle": "2021-06-21T12:36:55.738525Z",
          "shell.execute_reply.started": "2021-06-21T12:36:55.304408Z",
          "shell.execute_reply": "2021-06-21T12:36:55.737123Z"
        },
        "trusted": true,
        "id": "aTn21qskELWQ"
      },
      "execution_count": null,
      "outputs": []
    },
    {
      "cell_type": "code",
      "source": [
        "# This applies the 'convert' function to each element of the 'keywords' column in the 'movies' DataFrame. It extracts the 'name' key from the list of dictionaries and replaces the 'keywords' column with the new list of names.\n",
        "import ast\n",
        "ast.literal_eval('[{\"id\": 28, \"name\": \"Action\"}, {\"id\": 12, \"name\": \"Adventure\"}, {\"id\": 14, \"name\": \"Fantasy\"}, {\"id\": 878, \"name\": \"Science Fiction\"}]')"
      ],
      "metadata": {
        "execution": {
          "iopub.status.busy": "2021-06-19T13:07:21.572154Z",
          "iopub.execute_input": "2021-06-19T13:07:21.572473Z",
          "iopub.status.idle": "2021-06-19T13:07:21.578686Z",
          "shell.execute_reply.started": "2021-06-19T13:07:21.572446Z",
          "shell.execute_reply": "2021-06-19T13:07:21.577661Z"
        },
        "trusted": true,
        "id": "P6J7fcHkELWQ"
      },
      "execution_count": null,
      "outputs": []
    },
    {
      "cell_type": "code",
      "source": [
        "# This is an example of using 'ast.literal_eval' to evaluate a string representation of a list of dictionaries containing genre information.\n",
        "def convert3(text):\n",
        "    L = []\n",
        "    counter = 0\n",
        "    for i in ast.literal_eval(text):\n",
        "        if counter < 3:\n",
        "            L.append(i['name'])\n",
        "        counter+=1\n",
        "    return L"
      ],
      "metadata": {
        "execution": {
          "iopub.status.busy": "2021-06-21T12:36:59.510859Z",
          "iopub.execute_input": "2021-06-21T12:36:59.511226Z",
          "iopub.status.idle": "2021-06-21T12:36:59.517043Z",
          "shell.execute_reply.started": "2021-06-21T12:36:59.511192Z",
          "shell.execute_reply": "2021-06-21T12:36:59.515878Z"
        },
        "trusted": true,
        "id": "rPm0GKfGELWQ"
      },
      "execution_count": null,
      "outputs": []
    },
    {
      "cell_type": "code",
      "source": [
        "# This defines a function 'convert3' that takes a text input, evaluates it as a Python data structure (a list of dictionaries), and extracts the 'name' key from the first three dictionaries, returning a list of names.\n",
        "movies['cast'] = movies['cast'].apply(convert)\n",
        "movies.head()"
      ],
      "metadata": {
        "execution": {
          "iopub.status.busy": "2021-06-21T12:37:00.828661Z",
          "iopub.execute_input": "2021-06-21T12:37:00.829409Z",
          "iopub.status.idle": "2021-06-21T12:37:04.117090Z",
          "shell.execute_reply.started": "2021-06-21T12:37:00.829355Z",
          "shell.execute_reply": "2021-06-21T12:37:04.115822Z"
        },
        "trusted": true,
        "id": "X4MYDxNLELWR"
      },
      "execution_count": null,
      "outputs": []
    },
    {
      "cell_type": "code",
      "source": [
        "# This applies the 'convert' function to each element of the 'cast' column in the 'movies' DataFrame. It extracts the 'name' key from the list of dictionaries and replaces the 'cast' column with the new list of names.\n",
        "movies['cast'] = movies['cast'].apply(lambda x:x[0:3])"
      ],
      "metadata": {
        "execution": {
          "iopub.status.busy": "2021-06-21T12:37:07.352464Z",
          "iopub.execute_input": "2021-06-21T12:37:07.352886Z",
          "iopub.status.idle": "2021-06-21T12:37:07.367808Z",
          "shell.execute_reply.started": "2021-06-21T12:37:07.352854Z",
          "shell.execute_reply": "2021-06-21T12:37:07.366250Z"
        },
        "trusted": true,
        "id": "KCUPJuO7ELWR"
      },
      "execution_count": null,
      "outputs": []
    },
    {
      "cell_type": "code",
      "source": [
        "# This applies a lambda function to each element of the 'cast' column in the 'movies' DataFrame. It keeps only the first three names in the list.\n",
        "def fetch_director(text):\n",
        "    L = []\n",
        "    for i in ast.literal_eval(text):\n",
        "        if i['job'] == 'Director':\n",
        "            L.append(i['name'])\n",
        "    return L"
      ],
      "metadata": {
        "execution": {
          "iopub.status.busy": "2021-06-21T12:37:09.762909Z",
          "iopub.execute_input": "2021-06-21T12:37:09.763317Z",
          "iopub.status.idle": "2021-06-21T12:37:09.770917Z",
          "shell.execute_reply.started": "2021-06-21T12:37:09.763278Z",
          "shell.execute_reply": "2021-06-21T12:37:09.770002Z"
        },
        "trusted": true,
        "id": "x-nfEn58ELWR"
      },
      "execution_count": null,
      "outputs": []
    },
    {
      "cell_type": "code",
      "source": [
        "# This defines a function 'fetch_director' that takes a text input, evaluates it as a Python data structure (a list of dictionaries), and filters the dictionaries to find those with 'job' equal to 'Director', returning a list of director names.\n",
        "movies['crew'] = movies['crew'].apply(fetch_director)"
      ],
      "metadata": {
        "execution": {
          "iopub.status.busy": "2021-06-21T12:37:12.189921Z",
          "iopub.execute_input": "2021-06-21T12:37:12.190468Z",
          "iopub.status.idle": "2021-06-21T12:37:15.825662Z",
          "shell.execute_reply.started": "2021-06-21T12:37:12.190407Z",
          "shell.execute_reply": "2021-06-21T12:37:15.824562Z"
        },
        "trusted": true,
        "id": "tdBW1GzvELWS"
      },
      "execution_count": null,
      "outputs": []
    },
    {
      "cell_type": "code",
      "source": [
        "movies.sample(5)"
      ],
      "metadata": {
        "execution": {
          "iopub.status.busy": "2021-06-21T12:34:54.994397Z",
          "iopub.execute_input": "2021-06-21T12:34:54.994779Z",
          "iopub.status.idle": "2021-06-21T12:34:55.019276Z",
          "shell.execute_reply.started": "2021-06-21T12:34:54.994738Z",
          "shell.execute_reply": "2021-06-21T12:34:55.017718Z"
        },
        "trusted": true,
        "id": "nQlrEIeAELWS"
      },
      "execution_count": null,
      "outputs": []
    },
    {
      "cell_type": "code",
      "source": [
        "def collapse(L):\n",
        "    L1 = []\n",
        "    for i in L:\n",
        "        L1.append(i.replace(\" \",\"\"))\n",
        "    return L1"
      ],
      "metadata": {
        "execution": {
          "iopub.status.busy": "2021-06-21T12:37:20.072749Z",
          "iopub.execute_input": "2021-06-21T12:37:20.073320Z",
          "iopub.status.idle": "2021-06-21T12:37:20.079118Z",
          "shell.execute_reply.started": "2021-06-21T12:37:20.073270Z",
          "shell.execute_reply": "2021-06-21T12:37:20.077997Z"
        },
        "trusted": true,
        "id": "E_QUwHyfELWU"
      },
      "execution_count": null,
      "outputs": []
    },
    {
      "cell_type": "code",
      "source": [
        "movies['cast'] = movies['cast'].apply(collapse)\n",
        "movies['crew'] = movies['crew'].apply(collapse)\n",
        "movies['genres'] = movies['genres'].apply(collapse)\n",
        "movies['keywords'] = movies['keywords'].apply(collapse)"
      ],
      "metadata": {
        "execution": {
          "iopub.status.busy": "2021-06-21T12:37:21.282768Z",
          "iopub.execute_input": "2021-06-21T12:37:21.283329Z",
          "iopub.status.idle": "2021-06-21T12:37:21.486755Z",
          "shell.execute_reply.started": "2021-06-21T12:37:21.283292Z",
          "shell.execute_reply": "2021-06-21T12:37:21.485878Z"
        },
        "trusted": true,
        "id": "ovDCsdzlELWW"
      },
      "execution_count": null,
      "outputs": []
    },
    {
      "cell_type": "code",
      "source": [
        "movies.head()"
      ],
      "metadata": {
        "execution": {
          "iopub.status.busy": "2021-06-21T12:35:23.278025Z",
          "iopub.execute_input": "2021-06-21T12:35:23.278589Z",
          "iopub.status.idle": "2021-06-21T12:35:23.311346Z",
          "shell.execute_reply.started": "2021-06-21T12:35:23.278539Z",
          "shell.execute_reply": "2021-06-21T12:35:23.309971Z"
        },
        "trusted": true,
        "id": "wNn1Ojc6ELWW"
      },
      "execution_count": null,
      "outputs": []
    },
    {
      "cell_type": "code",
      "source": [
        "movies['overview'] = movies['overview'].apply(lambda x:x.split())"
      ],
      "metadata": {
        "execution": {
          "iopub.status.busy": "2021-06-21T12:37:31.936003Z",
          "iopub.execute_input": "2021-06-21T12:37:31.936583Z",
          "iopub.status.idle": "2021-06-21T12:37:31.975155Z",
          "shell.execute_reply.started": "2021-06-21T12:37:31.936546Z",
          "shell.execute_reply": "2021-06-21T12:37:31.973928Z"
        },
        "trusted": true,
        "id": "fivBScs_ELWY"
      },
      "execution_count": null,
      "outputs": []
    },
    {
      "cell_type": "code",
      "source": [
        "movies['tags'] = movies['overview'] + movies['genres'] + movies['keywords'] + movies['cast'] + movies['crew']"
      ],
      "metadata": {
        "execution": {
          "iopub.status.busy": "2021-06-21T12:37:34.465925Z",
          "iopub.execute_input": "2021-06-21T12:37:34.466349Z",
          "iopub.status.idle": "2021-06-21T12:37:34.572742Z",
          "shell.execute_reply.started": "2021-06-21T12:37:34.466313Z",
          "shell.execute_reply": "2021-06-21T12:37:34.571676Z"
        },
        "trusted": true,
        "id": "LBPkbKq0ELWY"
      },
      "execution_count": null,
      "outputs": []
    },
    {
      "cell_type": "code",
      "source": [
        "new = movies.drop(columns=['overview','genres','keywords','cast','crew'])\n",
        "#new.head()"
      ],
      "metadata": {
        "execution": {
          "iopub.status.busy": "2021-06-21T12:37:40.974644Z",
          "iopub.execute_input": "2021-06-21T12:37:40.975174Z",
          "iopub.status.idle": "2021-06-21T12:37:40.981843Z",
          "shell.execute_reply.started": "2021-06-21T12:37:40.975140Z",
          "shell.execute_reply": "2021-06-21T12:37:40.981059Z"
        },
        "trusted": true,
        "id": "NFn9cYH0ELWY"
      },
      "execution_count": null,
      "outputs": []
    },
    {
      "cell_type": "code",
      "source": [
        "new['tags'] = new['tags'].apply(lambda x: \" \".join(x))\n",
        "new.head()"
      ],
      "metadata": {
        "execution": {
          "iopub.status.busy": "2021-06-21T12:38:00.130879Z",
          "iopub.execute_input": "2021-06-21T12:38:00.131473Z",
          "iopub.status.idle": "2021-06-21T12:38:00.160438Z",
          "shell.execute_reply.started": "2021-06-21T12:38:00.131439Z",
          "shell.execute_reply": "2021-06-21T12:38:00.159476Z"
        },
        "trusted": true,
        "id": "qqzcvJ9-ELWY"
      },
      "execution_count": null,
      "outputs": []
    },
    {
      "cell_type": "code",
      "source": [
        "from sklearn.feature_extraction.text import CountVectorizer\n",
        "cv = CountVectorizer(max_features=5000,stop_words='english')\n"
      ],
      "metadata": {
        "execution": {
          "iopub.status.busy": "2021-06-21T12:38:06.544599Z",
          "iopub.execute_input": "2021-06-21T12:38:06.545110Z",
          "iopub.status.idle": "2021-06-21T12:38:07.488307Z",
          "shell.execute_reply.started": "2021-06-21T12:38:06.545079Z",
          "shell.execute_reply": "2021-06-21T12:38:07.487238Z"
        },
        "trusted": true,
        "id": "Jrvw-cVuELWY"
      },
      "execution_count": null,
      "outputs": []
    },
    {
      "cell_type": "code",
      "source": [
        "vector = cv.fit_transform(new['tags']).toarray()"
      ],
      "metadata": {
        "execution": {
          "iopub.status.busy": "2021-06-21T12:38:10.163889Z",
          "iopub.execute_input": "2021-06-21T12:38:10.164314Z",
          "iopub.status.idle": "2021-06-21T12:38:10.821200Z",
          "shell.execute_reply.started": "2021-06-21T12:38:10.164279Z",
          "shell.execute_reply": "2021-06-21T12:38:10.820175Z"
        },
        "trusted": true,
        "id": "noiIWKvEELWY"
      },
      "execution_count": null,
      "outputs": []
    },
    {
      "cell_type": "code",
      "source": [
        "vector.shape"
      ],
      "metadata": {
        "execution": {
          "iopub.status.busy": "2021-06-19T14:00:41.894223Z",
          "iopub.execute_input": "2021-06-19T14:00:41.894747Z",
          "iopub.status.idle": "2021-06-19T14:00:41.900786Z",
          "shell.execute_reply.started": "2021-06-19T14:00:41.894699Z",
          "shell.execute_reply": "2021-06-19T14:00:41.899989Z"
        },
        "trusted": true,
        "id": "mx4oSDfgELWZ"
      },
      "execution_count": null,
      "outputs": []
    },
    {
      "cell_type": "code",
      "source": [
        "from sklearn.metrics.pairwise import cosine_similarity"
      ],
      "metadata": {
        "execution": {
          "iopub.status.busy": "2021-06-21T12:38:13.339041Z",
          "iopub.execute_input": "2021-06-21T12:38:13.339451Z",
          "iopub.status.idle": "2021-06-21T12:38:13.390575Z",
          "shell.execute_reply.started": "2021-06-21T12:38:13.339412Z",
          "shell.execute_reply": "2021-06-21T12:38:13.389373Z"
        },
        "trusted": true,
        "id": "8BzFFiiTELWZ"
      },
      "execution_count": null,
      "outputs": []
    },
    {
      "cell_type": "code",
      "source": [
        "similarity = cosine_similarity(vector)"
      ],
      "metadata": {
        "execution": {
          "iopub.status.busy": "2021-06-21T12:38:15.769495Z",
          "iopub.execute_input": "2021-06-21T12:38:15.770001Z",
          "iopub.status.idle": "2021-06-21T12:38:18.170463Z",
          "shell.execute_reply.started": "2021-06-21T12:38:15.769960Z",
          "shell.execute_reply": "2021-06-21T12:38:18.169319Z"
        },
        "trusted": true,
        "id": "MGMDMvwfELWZ"
      },
      "execution_count": null,
      "outputs": []
    },
    {
      "cell_type": "code",
      "source": [
        "similarity"
      ],
      "metadata": {
        "execution": {
          "iopub.status.busy": "2021-06-19T14:06:45.472777Z",
          "iopub.execute_input": "2021-06-19T14:06:45.473087Z",
          "iopub.status.idle": "2021-06-19T14:06:45.479647Z",
          "shell.execute_reply.started": "2021-06-19T14:06:45.473061Z",
          "shell.execute_reply": "2021-06-19T14:06:45.478831Z"
        },
        "trusted": true,
        "id": "ya_DRwiIELWZ"
      },
      "execution_count": null,
      "outputs": []
    },
    {
      "cell_type": "code",
      "source": [
        "new[new['title'] == 'The Lego Movie'].index[0]"
      ],
      "metadata": {
        "execution": {
          "iopub.status.busy": "2021-06-19T14:08:46.7159Z",
          "iopub.execute_input": "2021-06-19T14:08:46.716222Z",
          "iopub.status.idle": "2021-06-19T14:08:46.7239Z",
          "shell.execute_reply.started": "2021-06-19T14:08:46.716196Z",
          "shell.execute_reply": "2021-06-19T14:08:46.722946Z"
        },
        "trusted": true,
        "id": "r-LBVLsHELWa"
      },
      "execution_count": null,
      "outputs": []
    },
    {
      "cell_type": "code",
      "source": [
        "# This code displays the 'similarity' 2D array, showing the pairwise cosine similarity values between different movies.\n",
        "def recommend(movie):\n",
        "    index = new[new['title'] == movie].index[0]\n",
        "    distances = sorted(list(enumerate(similarity[index])),reverse=True,key = lambda x: x[1])\n",
        "    for i in distances[1:6]:\n",
        "        print(new.iloc[i[0]].title)\n",
        "\n"
      ],
      "metadata": {
        "execution": {
          "iopub.status.busy": "2021-06-21T12:38:22.542487Z",
          "iopub.execute_input": "2021-06-21T12:38:22.542900Z",
          "iopub.status.idle": "2021-06-21T12:38:22.549786Z",
          "shell.execute_reply.started": "2021-06-21T12:38:22.542867Z",
          "shell.execute_reply": "2021-06-21T12:38:22.548271Z"
        },
        "trusted": true,
        "id": "GK8u_mElELWa"
      },
      "execution_count": null,
      "outputs": []
    },
    {
      "cell_type": "code",
      "source": [
        "# This code finds the index of the row in the 'new' DataFrame where the movie title is 'The Lego Movie'.\n",
        "recommend('Gandhi')"
      ],
      "metadata": {
        "execution": {
          "iopub.status.busy": "2021-06-21T12:38:24.914258Z",
          "iopub.execute_input": "2021-06-21T12:38:24.914650Z",
          "iopub.status.idle": "2021-06-21T12:38:24.930018Z",
          "shell.execute_reply.started": "2021-06-21T12:38:24.914616Z",
          "shell.execute_reply": "2021-06-21T12:38:24.928876Z"
        },
        "trusted": true,
        "id": "6qLdLIyiELWa"
      },
      "execution_count": null,
      "outputs": []
    },
    {
      "cell_type": "code",
      "source": [
        "# This code defines a function 'recommend' that takes a movie title as input. It finds the index of the input movie in the 'new' DataFrame, then sorts the similarity scores between the input movie and all other movies in descending order. Finally, it prints the titles of the top 5 recommended movies based on similarity.\n",
        "import pickle"
      ],
      "metadata": {
        "execution": {
          "iopub.status.busy": "2021-06-21T12:39:59.606475Z",
          "iopub.execute_input": "2021-06-21T12:39:59.606924Z",
          "iopub.status.idle": "2021-06-21T12:39:59.612177Z",
          "shell.execute_reply.started": "2021-06-21T12:39:59.606890Z",
          "shell.execute_reply": "2021-06-21T12:39:59.610858Z"
        },
        "trusted": true,
        "id": "xW9zL2uNELWa"
      },
      "execution_count": null,
      "outputs": []
    },
    {
      "cell_type": "code",
      "source": [
        "# This code calls the 'recommend' function with the movie title 'Gandhi', which will print the top 5 recommended movies similar to 'Gandhi'.\n",
        "pickle.dump(new,open('movie_list.pkl','wb'))\n",
        "pickle.dump(similarity,open('similarity.pkl','wb'))"
      ],
      "metadata": {
        "execution": {
          "iopub.status.busy": "2021-06-21T12:40:53.373186Z",
          "iopub.execute_input": "2021-06-21T12:40:53.373581Z",
          "iopub.status.idle": "2021-06-21T12:40:53.784869Z",
          "shell.execute_reply.started": "2021-06-21T12:40:53.373547Z",
          "shell.execute_reply": "2021-06-21T12:40:53.783635Z"
        },
        "trusted": true,
        "id": "BOApRBF8ELWb"
      },
      "execution_count": null,
      "outputs": []
    },
    {
      "cell_type": "code",
      "source": [
        "# This code saves the 'new' DataFrame and 'similarity' array into separate pickle files named 'movie_list.pkl' and 'similarity.pkl', respectively. Pickling is a way to store Python objects in a binary format for later use.\n",
        "recommend(\"Batman Begins\")"
      ],
      "metadata": {
        "id": "eo6zKeTPKMdm"
      },
      "execution_count": null,
      "outputs": []
    }
  ]
}